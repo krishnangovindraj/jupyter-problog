{
 "cells": [
  {
   "cell_type": "markdown",
   "id": "royal-matrix",
   "metadata": {},
   "source": [
    "### Sampling\n",
    "To do a sampling query, We need to set the query type to 'sample'.\n",
    "This can be done in one of many ways.  But first we define the program."
   ]
  },
  {
   "cell_type": "code",
   "execution_count": 1,
   "id": "dutch-curve",
   "metadata": {},
   "outputs": [
    {
     "data": {
      "text/html": [
       "<div class=\"reponse\"><table class=\"query_results\">\t<tr><th colspan=\"2\">(Cell queries)</th></tr>\n",
       "<tr><td>0.700000</td><td>bar(7)</td></tr>\n",
       "\n",
       "<tr><td>0.500000</td><td>bar(5)</td></tr>\n",
       "</table></div>"
      ]
     },
     "metadata": {},
     "output_type": "display_data"
    }
   ],
   "source": [
    "%# sampling_kb\n",
    "0.2::foo(2);0.3::foo(3);0.5::foo(5).\n",
    "\n",
    "0.7::bar(7).\n",
    "0.5::bar(5).\n",
    "\n",
    "q(f, X):- foo(X).\n",
    "q(b, X):- bar(X).\n",
    "\n",
    "\n",
    "query(bar(X))."
   ]
  },
  {
   "cell_type": "markdown",
   "id": "promising-knight",
   "metadata": {},
   "source": [
    "The first is using the with (or set) command to set the query type.\n",
    "(With sets an option for the current cell only. Set sets it globally).\n",
    "The sampling mode specification takes an optional argument of the number of samples - The default value being 1.\n",
    "A single row represents a single sample."
   ]
  },
  {
   "cell_type": "code",
   "execution_count": 7,
   "id": "skilled-intersection",
   "metadata": {},
   "outputs": [
    {
     "data": {
      "text/html": [
       "<div class=\"reponse\"><table class=\"query_results\">\t<tr><th>(Cell queries)</th></tr>\n",
       "\t<tr class=\"query_model\"><td>bar(7)</td></tr>\n",
       "\t<tr class=\"query_model\"><td></td></tr>\n",
       "\t<tr class=\"query_model\"><td>bar(7), bar(5)</td></tr>\n",
       "\t<tr class=\"query_model\"><td>bar(5)</td></tr>\n",
       "\t<tr class=\"query_model\"><td>bar(7), bar(5)</td></tr>\n",
       "</table></div>"
      ]
     },
     "metadata": {},
     "output_type": "display_data"
    }
   ],
   "source": [
    "with?query_type=sample(5).\n",
    "query(bar(X))."
   ]
  },
  {
   "cell_type": "markdown",
   "id": "assisted-caution",
   "metadata": {},
   "source": [
    "For most query_types, there's a short-hand command for it.\n",
    "Note: Since the inline query is a conjunction (by default), Querying it actually searches for assignments satisfying the conjunction and not for each term. (Although, taking the union of all the ground terms will give you that)\n",
    "\n",
    "A single row corresponds to a single sample, and the paranthesis indicate that it is one isntance of the conjunction."
   ]
  },
  {
   "cell_type": "code",
   "execution_count": 10,
   "id": "enhanced-india",
   "metadata": {},
   "outputs": [
    {
     "data": {
      "text/html": [
       "<div class=\"reponse\"><table class=\"query_results\">\t<tr><th><b>?</b> foo(Y), bar(X)</th></tr>\n",
       "\t<tr class=\"query_model\"><td>[foo(5), bar(5)]</td></tr>\n",
       "\t<tr class=\"query_model\"><td></td></tr>\n",
       "\t<tr class=\"query_model\"><td>[foo(3), bar(7)], [foo(3), bar(5)]</td></tr>\n",
       "\t<tr class=\"query_model\"><td>[foo(5), bar(7)]</td></tr>\n",
       "\t<tr class=\"query_model\"><td>[foo(5), bar(7)]</td></tr>\n",
       "</table></div>"
      ]
     },
     "metadata": {},
     "output_type": "display_data"
    }
   ],
   "source": [
    "sample(5)? (foo(Y),bar(X))."
   ]
  }
 ],
 "metadata": {
  "kernelspec": {
   "display_name": "Problog",
   "language": "problog",
   "name": "problogkernel"
  },
  "language_info": {
   "codemirror_mode": {
    "name": "prolog"
   },
   "extension": ".pl",
   "mimetype": "text/x-prolog",
   "name": "problog",
   "pygments_lexer": "prolog"
  }
 },
 "nbformat": 4,
 "nbformat_minor": 5
}
