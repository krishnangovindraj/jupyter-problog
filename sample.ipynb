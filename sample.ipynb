{
 "cells": [
  {
   "cell_type": "markdown",
   "id": "genuine-strap",
   "metadata": {},
   "source": [
    "# Sample Jupyter ProbLog notebook\n",
    "This is a simple [python wrapper kernel](https://jupyter-client.readthedocs.io/en/latest/wrapperkernels.html) for [ProbLog](https://dtai.cs.kuleuven.be/problog/).\n",
    "\n",
    "## Supported modes\n",
    "Currently, only the default problog mode (inference) is supported.\n",
    "\n",
    "## Cell Ids\n",
    "If the first non-empty line in a cell starts with `%#`, whatever follows is considered the id of the cell.\n",
    "\n",
    "Modifying a cell with an id and re-evaluating will emulate an update of the cell - all the previously evaluated static-clauses are removed from the program, and the contents of the cell is added again.\n",
    "Side-effects will *not* be undone."
   ]
  },
  {
   "cell_type": "code",
   "execution_count": 1,
   "id": "concerned-dividend",
   "metadata": {},
   "outputs": [
    {
     "name": "stdout",
     "output_type": "stream",
     "text": []
    }
   ],
   "source": [
    "%# 1\n",
    "\n",
    "0.2::foo(2); 0.3::foo(3); 0.5::foo(5):- bar(Z)."
   ]
  },
  {
   "cell_type": "code",
   "execution_count": 2,
   "id": "young-astrology",
   "metadata": {
    "scrolled": true
   },
   "outputs": [
    {
     "name": "stdout",
     "output_type": "stream",
     "text": [
      "foo(5): 0.500000\n",
      "foo(3): 0.300000\n",
      "foo(2): 0.200000"
     ]
    }
   ],
   "source": [
    "%# 2\n",
    "bar(a).\n",
    "0.7::bar(b).\n",
    "\n",
    "evidence(\\+bar(b)).\n",
    "\n",
    "query(foo(X))."
   ]
  }
 ],
 "metadata": {
  "kernelspec": {
   "display_name": "Problog",
   "language": "",
   "name": "problog_kernel"
  },
  "language_info": {
   "extension": ".pl",
   "mimetype": "text/x-prolog",
   "name": "problog"
  }
 },
 "nbformat": 4,
 "nbformat_minor": 5
}
