{
 "cells": [
  {
   "cell_type": "markdown",
   "id": "genuine-strap",
   "metadata": {},
   "source": [
    "# Sample Jupyter ProbLog notebook\n",
    "This is a simple [python wrapper kernel](https://jupyter-client.readthedocs.io/en/latest/wrapperkernels.html) for [ProbLog](https://dtai.cs.kuleuven.be/problog/).\n",
    "\n",
    "## Supported modes\n",
    "Currently, only the default problog mode (inference) is supported.\n",
    "\n",
    "# Basics\n",
    "When a cell is executed, the statements in it are added to the same problog program. You can organize your program into different cells and execute them as if they were all part of a single program (remember that a cell must be executed for it to be added to your program). Executing a cell a second time would typically add the statements to the program again. To avoid these, we introduce cell id's.\n",
    "\n",
    "## Cell Ids\n",
    "If the first non-empty line in a cell starts with `%#`, the string that follows is considered the id of the cell.\n",
    "Modifying a cell with an id and re-evaluating will emulate an update of the cell - all the previously evaluated static-clauses are removed from the program, and the contents of the cell is added again. Note that **side-effects will NOT be undone**.\n",
    "\n",
    "In the following cell, we declare an annotated disjunction. Note that it has a cell-id, so you can modify it and re-evaluate to modify the program."
   ]
  },
  {
   "cell_type": "code",
   "execution_count": 1,
   "id": "concerned-dividend",
   "metadata": {},
   "outputs": [
    {
     "data": {
      "text/html": [
       "<div class=\"reponse\"></div>"
      ]
     },
     "metadata": {},
     "output_type": "display_data"
    }
   ],
   "source": [
    "%# adding_facts\n",
    "\n",
    "0.2::foo(2); 0.3::foo(3); 0.5::foo(5):- bar(Z)."
   ]
  },
  {
   "cell_type": "markdown",
   "id": "headed-female",
   "metadata": {},
   "source": [
    "## Queries\n",
    "You can use the standard way of querying problog using the `query/1` and `evidence/1` (and `evidence/2`) predicates. \n",
    "In notebooks,  **queries and evidence will NOT be added to the program**.  Other statements (here, `bar/1`) will be."
   ]
  },
  {
   "cell_type": "code",
   "execution_count": 2,
   "id": "young-astrology",
   "metadata": {
    "scrolled": false
   },
   "outputs": [
    {
     "data": {
      "text/html": [
       "<div class=\"reponse\"><table class=\"query_results\">\t<tr><th colspan=\"2\">(Cell queries)</th></tr>\n",
       "\t<tr><th colspan=\"2\"><b>evidence:</b> {bar(b): False}</th></tr>\n",
       "<tr><td>0.500000</td><td>foo(5)</td></tr>\n",
       "\n",
       "<tr><td>0.300000</td><td>foo(3)</td></tr>\n",
       "\n",
       "<tr><td>0.200000</td><td>foo(2)</td></tr>\n",
       "</table></div>"
      ]
     },
     "metadata": {},
     "output_type": "display_data"
    }
   ],
   "source": [
    "%# standard_queries\n",
    "bar(a).\n",
    "0.7::bar(b).\n",
    "\n",
    "evidence(\\+bar(b)).\n",
    "\n",
    "query(foo(X))."
   ]
  },
  {
   "cell_type": "markdown",
   "id": "annoying-demonstration",
   "metadata": {},
   "source": [
    "### Inline queries\n",
    "We also allow queries as you would type in the interactive-prompt (the 'shell' mode of problog). Any line that starts with `%?` is treated as an inline query. \n",
    "* You can have multiple such queries in a cell.\n",
    "* Results are formatted slightly differently - first substitution and then the probability.\n",
    "\n",
    "(Since this cell does not add anything to the program, a cell-id makes little difference.)"
   ]
  },
  {
   "cell_type": "code",
   "execution_count": 3,
   "id": "reduced-spice",
   "metadata": {},
   "outputs": [
    {
     "data": {
      "text/html": [
       "<div class=\"reponse\"><table class=\"query_results\">\t<tr><th colspan=\"2\"><b>?</b> foo(X)|bar(b)</th></tr>\n",
       "\t<th colspan=\"2\"><b>evidence:</b> {bar(b): True}</th></tr>\n",
       "\t<tr class=\"query_model\"><td>0.750000</td><td>X=5</td></tr>\n",
       "\t<tr class=\"query_model\"><td>0.510000</td><td>X=3</td></tr>\n",
       "\t<tr class=\"query_model\"><td>0.360000</td><td>X=2</td></tr>\n",
       "</table><table class=\"query_results\">\t<tr><th colspan=\"2\"><b>?</b> foo(X), foo(Y), X\\=Y</th></tr>\n",
       "\t<tr class=\"query_model\"><td>0.210000</td><td>X=3, Y=5</td></tr>\n",
       "\t<tr class=\"query_model\"><td>0.210000</td><td>X=5, Y=3</td></tr>\n",
       "\t<tr class=\"query_model\"><td>0.140000</td><td>X=2, Y=5</td></tr>\n",
       "\t<tr class=\"query_model\"><td>0.140000</td><td>X=5, Y=2</td></tr>\n",
       "\t<tr class=\"query_model\"><td>0.084000</td><td>X=2, Y=3</td></tr>\n",
       "\t<tr class=\"query_model\"><td>0.084000</td><td>X=3, Y=2</td></tr>\n",
       "</table></div>"
      ]
     },
     "metadata": {},
     "output_type": "display_data"
    }
   ],
   "source": [
    "\n",
    "% You can do multiple queries, with different evidence.\n",
    "? foo(X)|bar(b).\n",
    "? foo(X), foo(Y), X\\=Y.\n"
   ]
  },
  {
   "cell_type": "markdown",
   "id": "disturbed-fountain",
   "metadata": {},
   "source": [
    "### Efficiency note\n",
    "All queries in a single cell are evaluated together. Queries in different cells are evaluated separately.\n",
    "They do share the same problog program, hence side-effects from queries may cross over.\n",
    "\n",
    "To demonstrate, We will use `assertz/1` to add a fact to the database, and query it in the next cell. Also note that running this multiple times will cause `moo(3)` to be added to the program multiple times, and hence change the result."
   ]
  },
  {
   "cell_type": "code",
   "execution_count": 4,
   "id": "fancy-lingerie",
   "metadata": {},
   "outputs": [
    {
     "data": {
      "text/html": [
       "<div class=\"reponse\"><table class=\"query_results\">\t<tr><th colspan=\"2\"><b>?</b> assertz(0.5::moo(3))</th></tr>\n",
       "\t<tr class=\"query_model\"><td>1.000000</td><td></td></tr>\n",
       "</table></div>"
      ]
     },
     "metadata": {},
     "output_type": "display_data"
    }
   ],
   "source": [
    "%# side_effects\n",
    ":- use_module(library(assert)).\n",
    "? assertz((0.5::moo(3)))."
   ]
  },
  {
   "cell_type": "code",
   "execution_count": 5,
   "id": "considered-information",
   "metadata": {},
   "outputs": [
    {
     "data": {
      "text/html": [
       "<div class=\"reponse\"><table class=\"query_results\">\t<tr><th colspan=\"2\"><b>?</b> moo(X)</th></tr>\n",
       "\t<tr class=\"query_model\"><td>0.500000</td><td>X=3</td></tr>\n",
       "</table></div>"
      ]
     },
     "metadata": {},
     "output_type": "display_data"
    }
   ],
   "source": [
    "%# observe_side_effect\n",
    "? moo(X)."
   ]
  }
 ],
 "metadata": {
  "kernelspec": {
   "display_name": "Problog",
   "language": "problog",
   "name": "problog_kernel"
  },
  "language_info": {
   "codemirror_mode": {
    "name": "prolog"
   },
   "extension": ".pl",
   "mimetype": "text/x-prolog",
   "name": "problog",
   "pygments_lexer": "prolog"
  }
 },
 "nbformat": 4,
 "nbformat_minor": 5
}
